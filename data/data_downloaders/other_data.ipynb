{
 "cells": [
  {
   "cell_type": "code",
   "execution_count": 1,
   "metadata": {},
   "outputs": [
    {
     "name": "stderr",
     "output_type": "stream",
     "text": [
      "/usr/local/lib/python3.8/dist-packages/tqdm/auto.py:22: TqdmWarning: IProgress not found. Please update jupyter and ipywidgets. See https://ipywidgets.readthedocs.io/en/stable/user_install.html\n",
      "  from .autonotebook import tqdm as notebook_tqdm\n",
      "Found cached dataset anli (/root/.cache/huggingface/datasets/anli/plain_text/0.1.0/aabce88453b06dff21c201855ea83283bab0390bff746deadb30b65695755c0b)\n",
      "100%|██████████| 9/9 [00:00<00:00, 66.18it/s]\n"
     ]
    }
   ],
   "source": [
    "# next steps: save benchmarks to local \n",
    "from datasets import load_dataset\n",
    "\n",
    "anli = load_dataset(\"anli\")\n",
    "# commonsense_qa = load_dataset(\"commonsense_qa\")\n",
    "# qasc = load_dataset(\"qasc\")"
   ]
  },
  {
   "cell_type": "code",
   "execution_count": null,
   "metadata": {},
   "outputs": [],
   "source": [
    "{\n",
    " \"context\": \"Linguistics is the scientific study of language, and involves an analysis of language form, language meaning, and language in context. The earliest activities in the documentation and description of language have been attributed to the 4th century BCE Indian grammarian P\\u0101\\u1e47ini, who wrote a formal description of the Sanskrit language in his \\\"A\\u1e63\\u1e6d\\u0101dhy\\u0101y\\u012b \\\".\", \n",
    " \"hypothesis\": \"Form and meaning are the only aspects of language linguistics is concerned with.\", \n",
    " \"label\": \"c\", \n",
    " \"model_label\": \"n\", \n",
    " \n",
    " \n",
    " \"reason\": \"Linguistics involves an analysis of language form, language meaning, and language in context, so context is also a crucial aspect. The algorithm missed this point, perhaps.\", \n",
    " }"
   ]
  },
  {
   "cell_type": "code",
   "execution_count": 2,
   "metadata": {},
   "outputs": [
    {
     "data": {
      "text/plain": [
       "1"
      ]
     },
     "execution_count": 2,
     "metadata": {},
     "output_type": "execute_result"
    }
   ],
   "source": [
    "['e', 'n', 'c'].index('n')"
   ]
  },
  {
   "cell_type": "code",
   "execution_count": null,
   "metadata": {},
   "outputs": [],
   "source": []
  }
 ],
 "metadata": {
  "kernelspec": {
   "display_name": "Python 3",
   "language": "python",
   "name": "python3"
  },
  "language_info": {
   "codemirror_mode": {
    "name": "ipython",
    "version": 3
   },
   "file_extension": ".py",
   "mimetype": "text/x-python",
   "name": "python",
   "nbconvert_exporter": "python",
   "pygments_lexer": "ipython3",
   "version": "3.8.10"
  },
  "orig_nbformat": 4
 },
 "nbformat": 4,
 "nbformat_minor": 2
}
