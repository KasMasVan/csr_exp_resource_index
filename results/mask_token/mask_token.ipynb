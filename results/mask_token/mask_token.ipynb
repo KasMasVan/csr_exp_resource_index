{
 "cells": [
  {
   "cell_type": "code",
   "execution_count": 1,
   "metadata": {},
   "outputs": [
    {
     "data": {
      "text/plain": [
       "array(['[MASK]', '[N/A]', 'dasjhasjkdhjskdhds', 'empty', '[mask]'],\n",
       "      dtype=object)"
      ]
     },
     "execution_count": 1,
     "metadata": {},
     "output_type": "execute_result"
    }
   ],
   "source": [
    "import pandas as pd\n",
    "import matplotlib.pyplot as plt\n",
    "import matplotlib.patches as mpatches\n",
    "import matplotlib.lines as mlines\n",
    "\n",
    "\n",
    "poe_path = f\"../mask_token.csv\"\n",
    "raw_df = pd.read_csv(poe_path)\n",
    "\n",
    "# rename mask_token: nan to \"empty\"\n",
    "raw_df['mask_token'] = raw_df['mask_token'].fillna(\"empty\")\n",
    "# the [N/A] is actually N/A in implementation.\n",
    "# raw_df['mask_token'].unique()"
   ]
  },
  {
   "cell_type": "code",
   "execution_count": 2,
   "metadata": {},
   "outputs": [],
   "source": [
    "def process(df, drop_columns=None): \n",
    "    # get rid of identical rows \n",
    "    df = df.drop_duplicates()\n",
    "    if isinstance(drop_columns, list):\n",
    "        drop_columns += [\"model_family\", \"seed\", \"batch_size\", \"loading_precision\", \"sample\"]\n",
    "    else:\n",
    "        drop_columns = [\"model_family\", \"seed\", \"batch_size\", \"loading_precision\", \"sample\"]\n",
    "    df = df.drop(columns=drop_columns)\n",
    "    # shorten checkpoint names\n",
    "    df['checkpoint'] = df[\"checkpoint\"].apply(lambda x: x.split(\"/\")[-1])\n",
    "    return df\n",
    "\n",
    "def process_v2(df):\n",
    "    datasets=\"anli cqa siqa logical_deduction_five_objects disambiguation_qa conceptual_combinations strange_stories symbol_interpretation\".split()\n",
    "    df = df[df[\"dataset\"].isin(datasets)]\n",
    "    df = df.groupby([\"dataset\", \"checkpoint\", \"mask_token\"]).mean().reset_index()\n",
    "    df = df.drop(columns=[\"checkpoint\"])\n",
    "    # accuracy: 3 decimal places\n",
    "    df[\"accuracy\"] = df[\"accuracy\"].apply(lambda x: round(x, 3))\n",
    "    return df"
   ]
  },
  {
   "cell_type": "code",
   "execution_count": 5,
   "metadata": {},
   "outputs": [],
   "source": [
    "mask_token_df = process(raw_df, drop_columns=[\"n_shot\", \"prompting_method\", \"scoring_method\", \"mask_strategy\", \"mask_accuracy\", \"method\"])\n",
    "mask_token_df = process_v2(mask_token_df)\n",
    "\n",
    "# save to csv\n",
    "mask_token_df.to_csv(\"mask_token.csv\", index=False)"
   ]
  },
  {
   "cell_type": "code",
   "execution_count": 10,
   "metadata": {},
   "outputs": [
    {
     "data": {
      "text/html": [
       "<div>\n",
       "<style scoped>\n",
       "    .dataframe tbody tr th:only-of-type {\n",
       "        vertical-align: middle;\n",
       "    }\n",
       "\n",
       "    .dataframe tbody tr th {\n",
       "        vertical-align: top;\n",
       "    }\n",
       "\n",
       "    .dataframe thead th {\n",
       "        text-align: right;\n",
       "    }\n",
       "</style>\n",
       "<table border=\"1\" class=\"dataframe\">\n",
       "  <thead>\n",
       "    <tr style=\"text-align: right;\">\n",
       "      <th></th>\n",
       "      <th>dataset</th>\n",
       "      <th>mask_token</th>\n",
       "      <th>accuracy</th>\n",
       "    </tr>\n",
       "  </thead>\n",
       "  <tbody>\n",
       "    <tr>\n",
       "      <th>4</th>\n",
       "      <td>anli</td>\n",
       "      <td>empty</td>\n",
       "      <td>0.572</td>\n",
       "    </tr>\n",
       "    <tr>\n",
       "      <th>6</th>\n",
       "      <td>conceptual_combinations</td>\n",
       "      <td>[N/A]</td>\n",
       "      <td>0.792</td>\n",
       "    </tr>\n",
       "    <tr>\n",
       "      <th>13</th>\n",
       "      <td>cqa</td>\n",
       "      <td>dasjhasjkdhjskdhds</td>\n",
       "      <td>0.896</td>\n",
       "    </tr>\n",
       "    <tr>\n",
       "      <th>16</th>\n",
       "      <td>disambiguation_qa</td>\n",
       "      <td>[N/A]</td>\n",
       "      <td>0.682</td>\n",
       "    </tr>\n",
       "    <tr>\n",
       "      <th>21</th>\n",
       "      <td>logical_deduction_five_objects</td>\n",
       "      <td>[N/A]</td>\n",
       "      <td>0.568</td>\n",
       "    </tr>\n",
       "    <tr>\n",
       "      <th>27</th>\n",
       "      <td>siqa</td>\n",
       "      <td>[mask]</td>\n",
       "      <td>0.826</td>\n",
       "    </tr>\n",
       "    <tr>\n",
       "      <th>34</th>\n",
       "      <td>strange_stories</td>\n",
       "      <td>empty</td>\n",
       "      <td>0.786</td>\n",
       "    </tr>\n",
       "    <tr>\n",
       "      <th>35</th>\n",
       "      <td>symbol_interpretation</td>\n",
       "      <td>[MASK]</td>\n",
       "      <td>0.234</td>\n",
       "    </tr>\n",
       "  </tbody>\n",
       "</table>\n",
       "</div>"
      ],
      "text/plain": [
       "                           dataset          mask_token  accuracy\n",
       "4                             anli               empty     0.572\n",
       "6          conceptual_combinations               [N/A]     0.792\n",
       "13                             cqa  dasjhasjkdhjskdhds     0.896\n",
       "16               disambiguation_qa               [N/A]     0.682\n",
       "21  logical_deduction_five_objects               [N/A]     0.568\n",
       "27                            siqa              [mask]     0.826\n",
       "34                 strange_stories               empty     0.786\n",
       "35           symbol_interpretation              [MASK]     0.234"
      ]
     },
     "execution_count": 10,
     "metadata": {},
     "output_type": "execute_result"
    }
   ],
   "source": [
    "# Find the index of the row with the highest accuracy for each dataset\n",
    "max_accuracy_indices = mask_token_df.groupby('dataset')['accuracy'].idxmax()\n",
    "# Get the rows with the highest accuracy for each dataset\n",
    "rows_with_highest_accuracy = mask_token_df.loc[max_accuracy_indices]\n",
    "rows_with_highest_accuracy"
   ]
  },
  {
   "cell_type": "code",
   "execution_count": null,
   "metadata": {},
   "outputs": [],
   "source": []
  },
  {
   "cell_type": "code",
   "execution_count": 8,
   "metadata": {},
   "outputs": [
    {
     "data": {
      "image/png": "[encoded data removed]",
      "text/plain": [
       "<Figure size 640x480 with 1 Axes>"
      ]
     },
     "metadata": {},
     "output_type": "display_data"
    }
   ],
   "source": [
    "sns.barplot(\n",
    "    x='dataset', \n",
    "    y='accuracy', \n",
    "    hue='mask_token', \n",
    "    data=mask_token_df, \n",
    "    palette='Set1',\n",
    "    )\n",
    "\n",
    "plt.show()"
   ]
  },
  {
   "cell_type": "code",
   "execution_count": 68,
   "metadata": {},
   "outputs": [],
   "source": [
    "\n",
    "\n",
    "# concatenate to df, and sort by dataset\n",
    "df = pd.concat([lowest_df, min_k_df, below_average_df])\n",
    "df = df.sort_values(by=[\"dataset\", \"mask_strategy\"])\n",
    "\n",
    "# reset the index\n",
    "df = df.reset_index(drop=True)\n",
    "# Find the index of the row with the highest accuracy for each dataset\n",
    "max_accuracy_indices = df.groupby('dataset')['accuracy'].idxmax()\n",
    "# Get the rows with the highest accuracy for each dataset\n",
    "rows_with_highest_accuracy = df.loc[max_accuracy_indices]\n",
    "\n",
    "# save to csv\n",
    "df.to_csv(\"min_k_mask.csv\", index=False)\n",
    "rows_with_highest_accuracy.to_csv(\"min_k_mask_max_accuracy.csv\", index=False)"
   ]
  }
 ],
 "metadata": {
  "kernelspec": {
   "display_name": "Python 3",
   "language": "python",
   "name": "python3"
  },
  "language_info": {
   "codemirror_mode": {
    "name": "ipython",
    "version": 3
   },
   "file_extension": ".py",
   "mimetype": "text/x-python",
   "name": "python",
   "nbconvert_exporter": "python",
   "pygments_lexer": "ipython3",
   "version": "3.8.10"
  },
  "orig_nbformat": 4
 },
 "nbformat": 4,
 "nbformat_minor": 2
}
